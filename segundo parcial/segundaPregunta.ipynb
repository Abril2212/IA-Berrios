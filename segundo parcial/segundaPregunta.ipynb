{
  "nbformat": 4,
  "nbformat_minor": 0,
  "metadata": {
    "accelerator": "GPU",
    "colab": {
      "provenance": []
    },
    "kernelspec": {
      "display_name": "Python 3",
      "language": "python",
      "name": "python3"
    },
    "language_info": {
      "codemirror_mode": {
        "name": "ipython",
        "version": 3
      },
      "file_extension": ".py",
      "mimetype": "text/x-python",
      "name": "python",
      "nbconvert_exporter": "python",
      "pygments_lexer": "ipython3",
      "version": "3.7.3"
    },
    "toc": {
      "base_numbering": 1,
      "nav_menu": {},
      "number_sections": true,
      "sideBar": true,
      "skip_h1_title": false,
      "title_cell": "Table of Contents",
      "title_sidebar": "Contents",
      "toc_cell": false,
      "toc_position": {},
      "toc_section_display": true,
      "toc_window_display": false
    }
  },
  "cells": [
    {
      "cell_type": "markdown",
      "metadata": {
        "id": "4z8WoM3LRvP5"
      },
      "source": [
        "[![Open In Colab](https://colab.research.google.com/assets/colab-badge.svg)](https://colab.research.google.com/github/sensioai/blog/blob/master/051_gans/gans.ipynb)"
      ]
    },
    {
      "cell_type": "markdown",
      "metadata": {
        "id": "dqWZoaHQRvP6"
      },
      "source": [
        "# GANs\n",
        "\n",
        "GANs (*generative adversarial networks*) es una arquitectura de red neuronal propuesta en 2014 por [Ian Goodfellow](https://arxiv.org/pdf/1406.2661.pdf) y otros con el objetivo de obtener modelos capaces de generar datos realistas, principalmente imágenes. Pese a la simplicidad de la idea original, se tardó varios años en superar varias de las dificultades que presenta su entrenamiento. Hoy en día, sin embargo, se utilizan para obtener resultados espectaculares. Algunos ejemplos son:\n",
        "\n",
        "- Generación de caras: https://www.thispersondoesnotexist.com/\n",
        "- Generación de anuncios de Airbnb: https://thisrentaldoesnotexist.com/\n",
        "- Super-resolución: https://www.youtube.com/watch?v=3RYNThid23g\n",
        "- Colorización: https://github.com/jantic/DeOldify\n",
        "- Generación de paisajes: http://nvidia-research-mingyuliu.com/gaugan\n",
        "- Y muchos otros."
      ]
    },
    {
      "cell_type": "markdown",
      "metadata": {
        "id": "wssmEmSARvP7"
      },
      "source": [
        "## La arquitectura\n",
        "\n",
        "La arquitectura básica de las *GANs* está formada por dos redes neuronales:\n",
        "\n",
        "- El **generador**: recibe a la entrada valores aleatorios (normalmente obtenidos de una distribución de tipo gausiana) y da a la salida una imagen. Puedes ver la entrada aleatoria como una representación latente (o codificación) de la imagen generada.\n",
        "- El **discriminador**: recibe a la entrada una imagen (real o generada por el generador) y tiene que decidir si bien la imagen es real o falsa.\n",
        "\n",
        "![](https://www.researchgate.net/publication/336781462/figure/fig2/AS:817722363494401@1571971612898/Example-of-a-typical-GANs-architecture-for-both-hand-written-digits-recognition-and.png)\n",
        "\n",
        "Durante el entrenamiento, el generador y el discriminador compiten entre ellos. Por un lado, el generador intenta generar imágenes cada vez más realistas para poder engañar al discriminador. Por otro lado, el generador cada vez será más bueno diferenciando imágenes reales de las generadas artificialmente por el generador. Esto implica que no podemos entrenar una *GAN* como hemos entrenado el resto de redes neuronales. El objetivo final será el de obtener un generador tan bueno que nuestro discriminador no sea capaz de diferenciar imágenes reales de falsas. Ésto impone unas restricciones muy fuertes en el proceso de entrenamiento, haciendo que sea difícil si no lo hacemos de la forma adecuada."
      ]
    },
    {
      "cell_type": "markdown",
      "metadata": {
        "id": "TJL68DrIRvP7"
      },
      "source": [
        "## El entrenamiento\n",
        "\n",
        "Para poder entrenar una *GAN* de manera efectiva, lo haremos en dos pasos: \n",
        "\n",
        "1. En una primera fase, entrenamos el discriminador. En cada iteración, le daremos un *batch* compuesto de imágenes reales obtenidas del dataset e imágenes falsas generadas por el generador. Definiremos un conjunto de etiquetas a 0 para las imágenes falsas y 1 para las reales. Entonces, optimizaremos el discriminador (utilizando una función de pérdida de tipo *binary cross-entropy* mejorando así sus capacidades de distinguir imágenes falsas de reales.\n",
        "2. En la segunda fase, entrenamos el generador. En cada iteración, le daremos un *batch* compuesto de ruido aleatorio para que genere imágenes. Estas imágenes son introducidas en el discriminador, cuyas salidas (etiquetas real/falso) con comparadas con un conjunto de etiquetas definidas como reales. Entonces, optimizaremos el generador (utilizando de nuevo la misma función de pérdida) de manera que el generador actualizará sus pesos para generar imágenes que engañen al discriminador."
      ]
    },
    {
      "cell_type": "markdown",
      "metadata": {
        "id": "us-pD663RvP8"
      },
      "source": [
        "> 💡 Como puedes observar, el generador nunca llega a ver las imágenes reales. Sin embargo es capaz de generar imágenes realistas simplemente intentando engañar al discriminador. Cuánto mejor sea el discriminador, mejor será el generador."
      ]
    },
    {
      "cell_type": "markdown",
      "metadata": {
        "id": "Fru8mFhPRvP9"
      },
      "source": [
        "## GAN simple\n",
        "\n",
        "Vamos a ver cómo podemos implementar esta arquitectura y proceso de entrenamiento con la implementación de una *GAN* muy simple para generar imágenes del dataset Fashion MNIST."
      ]
    },
    {
      "cell_type": "code",
      "metadata": {
        "ExecuteTime": {
          "end_time": "2020-10-08T11:16:24.375971Z",
          "start_time": "2020-10-08T11:16:21.379024Z"
        },
        "colab": {
          "base_uri": "https://localhost:8080/",
          "height": 35
        },
        "id": "_0F56K1RRvP9",
        "outputId": "fba3062e-33f5-478d-854a-130cbbecb898"
      },
      "source": [
        "import torch\n",
        "import torchvision\n",
        "\n",
        "device = \"cuda\" if torch.cuda.is_available() else \"cpu\"\n",
        "device"
      ],
      "execution_count": 3,
      "outputs": [
        {
          "output_type": "execute_result",
          "data": {
            "text/plain": [
              "'cuda'"
            ],
            "application/vnd.google.colaboratory.intrinsic+json": {
              "type": "string"
            }
          },
          "metadata": {},
          "execution_count": 3
        }
      ]
    },
    {
      "cell_type": "code",
      "source": [
        "from torch.utils.data import DataLoader\n",
        "from torchvision.datasets import ImageFolder\n",
        "import torchvision.transforms as T\n",
        "import torch\n",
        "import torch.nn as nn\n",
        "from torchvision.utils import make_grid\n",
        "import matplotlib.pyplot as plt\n",
        "%matplotlib inline"
      ],
      "metadata": {
        "id": "YYLsHrkzIpq7"
      },
      "execution_count": 4,
      "outputs": []
    },
    {
      "cell_type": "code",
      "execution_count": 5,
      "metadata": {
        "colab": {
          "base_uri": "https://localhost:8080/"
        },
        "id": "TpjrCtowHNp2",
        "outputId": "ae7f949d-c9db-44ee-be15-b121c1d37468"
      },
      "outputs": [
        {
          "output_type": "stream",
          "name": "stdout",
          "text": [
            "Mounted at /content/drive\n"
          ]
        }
      ],
      "source": [
        "from google.colab import drive\n",
        "drive.mount('/content/drive')"
      ]
    },
    {
      "cell_type": "code",
      "source": [
        "import os\n",
        "DATA_DIR = '/content/drive/MyDrive/Dataset_Basura'\n",
        "classes = os.listdir(DATA_DIR)\n",
        "classes"
      ],
      "metadata": {
        "colab": {
          "base_uri": "https://localhost:8080/"
        },
        "id": "i1hV3m8rIgz2",
        "outputId": "f060c302-7386-439e-89e2-8446b0281af8"
      },
      "execution_count": 6,
      "outputs": [
        {
          "output_type": "execute_result",
          "data": {
            "text/plain": [
              "['papeles', 'plastoformos', 'envases_plastico', 'cartones', 'metales']"
            ]
          },
          "metadata": {},
          "execution_count": 6
        }
      ]
    },
    {
      "cell_type": "code",
      "source": [
        "image_size = 28\n",
        "batch_size = 128\n",
        "stats = (0.5, 0.5, 0.5), (0.5, 0.5, 0.5)"
      ],
      "metadata": {
        "id": "EA16kBNJI6sS"
      },
      "execution_count": 227,
      "outputs": []
    },
    {
      "cell_type": "code",
      "source": [
        "train_ds = ImageFolder(DATA_DIR, transform=T.Compose([\n",
        "    T.Resize(image_size),\n",
        "    T.CenterCrop(image_size),\n",
        "    T.ToTensor(),\n",
        "    T.Normalize(*stats)]))\n",
        "\n",
        "train_dl = DataLoader(train_ds, batch_size, shuffle=True, num_workers=3, pin_memory=True)"
      ],
      "metadata": {
        "id": "gSilz3h_U7eX"
      },
      "execution_count": 179,
      "outputs": []
    },
    {
      "cell_type": "code",
      "source": [
        "def denorm(img_tensors):\n",
        "    return img_tensors * stats[1][0] + stats[0][0]\n",
        "def show_images(images, nmax=24):\n",
        "    fig, ax = plt.subplots(figsize=(16,16))\n",
        "    ax.set_xticks([]); ax.set_yticks([])\n",
        "    ax.imshow(make_grid(denorm(images.detach()[:nmax]), nrow=8).permute(1, 2, 0))\n",
        "\n",
        "def show_batch(dl, nmax=24):\n",
        "    for images, _ in dl:\n",
        "        show_images(images, nmax)\n",
        "        break"
      ],
      "metadata": {
        "id": "epsu92RYJRxS"
      },
      "execution_count": 180,
      "outputs": []
    },
    {
      "cell_type": "code",
      "source": [
        "show_batch(train_dl)"
      ],
      "metadata": {
        "id": "QzA-jjEMUTJW",
        "outputId": "016cb7fa-9544-45ef-f979-cacdcf8b32b5",
        "colab": {
          "base_uri": "https://localhost:8080/",
          "height": 374
        }
      },
      "execution_count": 181,
      "outputs": [
        {
          "output_type": "display_data",
          "data": {
            "text/plain": [
              "<Figure size 1152x1152 with 1 Axes>"
            ],
            "image/png": "[encoded data removed]"
          },
          "metadata": {}
        }
      ]
    },
    {
      "cell_type": "code",
      "source": [
        "def get_default_device():\n",
        "    \"\"\"Pick GPU if available, else CPU\"\"\"\n",
        "    if torch.cuda.is_available():\n",
        "        return torch.device('cuda')\n",
        "    else:\n",
        "        return torch.device('cpu')\n",
        "    \n",
        "def to_device(data, device):\n",
        "    \"\"\"Move tensor(s) to chosen device\"\"\"\n",
        "    if isinstance(data, (list,tuple)):\n",
        "        return [to_device(x, device) for x in data]\n",
        "    return data.to(device, non_blocking=True)\n",
        "\n",
        "class DeviceDataLoader():\n",
        "    \"\"\"Wrap a dataloader to move data to a device\"\"\"\n",
        "    def __init__(self, dl, device):\n",
        "        self.dl = dl\n",
        "        self.device = device\n",
        "        \n",
        "    def __iter__(self):\n",
        "        \"\"\"Yield a batch of data after moving it to device\"\"\"\n",
        "        for b in self.dl: \n",
        "            yield to_device(b, self.device)\n",
        "\n",
        "    def __len__(self):\n",
        "        \"\"\"Number of batches\"\"\"\n",
        "        return len(self.dl)"
      ],
      "metadata": {
        "id": "KTXSsfA6LBSt"
      },
      "execution_count": 182,
      "outputs": []
    },
    {
      "cell_type": "code",
      "source": [
        "device = get_default_device()\n",
        "device"
      ],
      "metadata": {
        "id": "tnBKoX-MrmMn",
        "outputId": "bcf9dd99-1429-4c9f-a0ff-c0b34f15c6b2",
        "colab": {
          "base_uri": "https://localhost:8080/"
        }
      },
      "execution_count": 183,
      "outputs": [
        {
          "output_type": "execute_result",
          "data": {
            "text/plain": [
              "device(type='cuda')"
            ]
          },
          "metadata": {},
          "execution_count": 183
        }
      ]
    },
    {
      "cell_type": "code",
      "source": [
        "train_dl = DeviceDataLoader(train_dl, device)"
      ],
      "metadata": {
        "id": "7dXIb-x5rnAE"
      },
      "execution_count": 184,
      "outputs": []
    },
    {
      "cell_type": "code",
      "metadata": {
        "ExecuteTime": {
          "end_time": "2020-10-08T12:21:23.696746Z",
          "start_time": "2020-10-08T12:21:23.677284Z"
        },
        "colab": {
          "base_uri": "https://localhost:8080/"
        },
        "id": "4vytYRgyRvQM",
        "outputId": "9fc01706-dcbd-4e7e-e614-2097f2aaf18c"
      },
      "source": [
        "imgs, labels = next(iter(train_dl))\n",
        "imgs.shape, labels.shape"
      ],
      "execution_count": 185,
      "outputs": [
        {
          "output_type": "execute_result",
          "data": {
            "text/plain": [
              "(torch.Size([128, 3, 28, 28]), torch.Size([128]))"
            ]
          },
          "metadata": {},
          "execution_count": 185
        }
      ]
    },
    {
      "cell_type": "code",
      "metadata": {
        "ExecuteTime": {
          "end_time": "2020-10-08T11:36:42.960160Z",
          "start_time": "2020-10-08T11:36:42.933582Z"
        },
        "colab": {
          "base_uri": "https://localhost:8080/"
        },
        "id": "BXL4baRiRvQJ",
        "outputId": "2459a20d-40a9-435b-fcaa-6ed9a6c9927f"
      },
      "source": [
        "img, label = train_ds[0]\n",
        "img.shape, img.dtype, img.max(), img.min()"
      ],
      "execution_count": 186,
      "outputs": [
        {
          "output_type": "execute_result",
          "data": {
            "text/plain": [
              "(torch.Size([3, 28, 28]), torch.float32, tensor(0.1529), tensor(-0.7804))"
            ]
          },
          "metadata": {},
          "execution_count": 186
        }
      ]
    },
    {
      "cell_type": "markdown",
      "metadata": {
        "id": "BZEF7lLdRvQP"
      },
      "source": [
        "El dataset está formado por 60000 imágenes de baja resolución (28 x 28 píxeles, en blanco y negro) y contiene 10 tipos prendas de ropa (camisetas, pantalones, etc)."
      ]
    },
    {
      "cell_type": "markdown",
      "metadata": {
        "id": "l1fH5s6MRvQT"
      },
      "source": [
        "El objetivo es entrenar una *GAN* que sea capaz de generar imágenes similares a las que tenemos en el dataset a partir de valores aleatorios (ruido). Para ello, como ya hemos visto en las secciones anteriores, necesitamos un **generador** y un **discrimiandor**. Para esta implementación simple usaremos la misma arquitectura para ambas redes, un Perceptrón Multicapa (MLP)."
      ]
    },
    {
      "cell_type": "code",
      "metadata": {
        "ExecuteTime": {
          "end_time": "2020-10-08T12:21:24.723356Z",
          "start_time": "2020-10-08T12:21:24.715066Z"
        },
        "id": "1Yyw-LMTRvQU"
      },
      "source": [
        "import torch.nn as nn\n",
        "\n",
        "def block(n_in, n_out):\n",
        "  return nn.Sequential(\n",
        "      nn.Linear(n_in, n_out),\n",
        "      nn.ReLU(inplace=True)\n",
        "  )\n",
        "\n",
        "class MLP(nn.Module):\n",
        "  def __init__(self, input_size, output_size):\n",
        "    super().__init__()\n",
        "    self.input_size = input_size\n",
        "    self.fc1 = block(input_size, 150)\n",
        "    self.fc2 = block(150, 100)\n",
        "    self.fc3 = nn.Linear(100, output_size)\n",
        "\n",
        "  def forward(self, x):\n",
        "    x = self.fc1(x)\n",
        "    x = self.fc2(x)\n",
        "    x = self.fc3(x)\n",
        "    return x"
      ],
      "execution_count": 187,
      "outputs": []
    },
    {
      "cell_type": "markdown",
      "metadata": {
        "id": "W0viAgrFRvQW"
      },
      "source": [
        "Nuestro MLP está formado por 3 capas lineales (cada capa seguida de una activación `relu`). En función del número de entradas y salidas definiremos las diferentes redes. Por ejemplo, el generador recibirá un vector con 30 valores aleatorios y nos dará a la salida un vector de 28 x 28 valores (igual que las imágenes del dataset)."
      ]
    },
    {
      "cell_type": "code",
      "metadata": {
        "ExecuteTime": {
          "end_time": "2020-10-08T12:21:24.756846Z",
          "start_time": "2020-10-08T12:21:24.728188Z"
        },
        "id": "lnHPFDyBRvQX"
      },
      "source": [
        "n_in, n_out = 30, 28*28*3\n",
        "generator = MLP(n_in, n_out)"
      ],
      "execution_count": 199,
      "outputs": []
    },
    {
      "cell_type": "code",
      "metadata": {
        "ExecuteTime": {
          "end_time": "2020-10-08T12:21:24.808082Z",
          "start_time": "2020-10-08T12:21:24.769285Z"
        },
        "colab": {
          "base_uri": "https://localhost:8080/"
        },
        "id": "h3lEt25FRvQa",
        "outputId": "f998cbec-3831-42c8-c67b-4bf9166187fd"
      },
      "source": [
        "output = generator(torch.randn(64, 30))\n",
        "output.shape"
      ],
      "execution_count": 200,
      "outputs": [
        {
          "output_type": "execute_result",
          "data": {
            "text/plain": [
              "torch.Size([64, 2352])"
            ]
          },
          "metadata": {},
          "execution_count": 200
        }
      ]
    },
    {
      "cell_type": "markdown",
      "metadata": {
        "id": "fGtKK3S5RvQc"
      },
      "source": [
        "Obviamente, nuestro generador inicializado genera imágenes aleatorias que en nada se parecen a las reales."
      ]
    },
    {
      "cell_type": "code",
      "metadata": {
        "ExecuteTime": {
          "end_time": "2020-10-08T12:21:25.181449Z",
          "start_time": "2020-10-08T12:21:24.922566Z"
        },
        "colab": {
          "base_uri": "https://localhost:8080/",
          "height": 282
        },
        "id": "nW5ZAzgERvQd",
        "outputId": "70bb68b7-e2ed-4d8c-a793-c2a6ce763c5c"
      },
      "source": [
        "plt.imshow(output[0].reshape(28,28,3).detach().numpy())\n",
        "plt.show()"
      ],
      "execution_count": 202,
      "outputs": [
        {
          "output_type": "stream",
          "name": "stderr",
          "text": [
            "WARNING:matplotlib.image:Clipping input data to the valid range for imshow with RGB data ([0..1] for floats or [0..255] for integers).\n"
          ]
        },
        {
          "output_type": "display_data",
          "data": {
            "text/plain": [
              "<Figure size 432x288 with 1 Axes>"
            ],
            "image/png": "[encoded data removed]"
          },
          "metadata": {
            "needs_background": "light"
          }
        }
      ]
    },
    {
      "cell_type": "markdown",
      "metadata": {
        "id": "PDqr5-f9RvQh"
      },
      "source": [
        "El discriminador, por otro lado, recibirá a la entrada una imagen (28 x 28 valores) y a la salida nos dará una clasificación binaria (real o falso)."
      ]
    },
    {
      "cell_type": "code",
      "metadata": {
        "ExecuteTime": {
          "end_time": "2020-10-08T12:21:25.215063Z",
          "start_time": "2020-10-08T12:21:25.198167Z"
        },
        "colab": {
          "base_uri": "https://localhost:8080/"
        },
        "id": "0taWml7YRvQi",
        "outputId": "7ac6defb-2a62-4510-e346-21dd7668daab"
      },
      "source": [
        "discriminator = MLP(28*28*3, 1)\n",
        "output = discriminator(torch.randn(64, 28*28*3))\n",
        "output.shape"
      ],
      "execution_count": 204,
      "outputs": [
        {
          "output_type": "execute_result",
          "data": {
            "text/plain": [
              "torch.Size([64, 1])"
            ]
          },
          "metadata": {},
          "execution_count": 204
        }
      ]
    },
    {
      "cell_type": "markdown",
      "metadata": {
        "id": "2L67YhLqRvQk"
      },
      "source": [
        "La siguiente función será la responsable de entrenar ambas redes."
      ]
    },
    {
      "cell_type": "code",
      "metadata": {
        "ExecuteTime": {
          "end_time": "2020-10-08T12:21:25.494261Z",
          "start_time": "2020-10-08T12:21:25.473981Z"
        },
        "code_folding": [
          11
        ],
        "id": "4ieCzFATRvQl"
      },
      "source": [
        "from fastprogress import master_bar, progress_bar\n",
        "import numpy as np\n",
        "def fit(g, d, dataloader, epochs=30, crit=None):\n",
        "  g.to(device)\n",
        "  d.to(device)\n",
        "  g_optimizer = torch.optim.Adam(g.parameters(), lr=3e-4)\n",
        "  d_optimizer = torch.optim.Adam(d.parameters(), lr=3e-4)\n",
        "  crit = nn.BCEWithLogitsLoss() if crit == None else crit\n",
        "  g_loss, d_loss = [], []\n",
        "  mb = master_bar(range(1, epochs+1))\n",
        "  hist = {'g_loss': [], 'd_loss': []}\n",
        "  for epoch in mb:\n",
        "    for X, y in progress_bar(dataloader, parent=mb):\n",
        "      #X, y = X.to(device), y.to(device)  \n",
        "      # entrenamos el discriminador\n",
        "      g.eval()\n",
        "      d.train()\n",
        "      #   generamos un batch de imágenes falsas\n",
        "      noise = torch.randn((X.size(0), g.input_size)).to(device)\n",
        "      genenerated_images = g(noise)\n",
        "      #   input del discrminator\n",
        "      d_input = torch.cat([genenerated_images, X.view(X.size(0), -1)])\n",
        "      #   gorund truth para el discriminator\n",
        "      d_gt = torch.cat([torch.zeros(X.size(0)), torch.ones(X.size(0))]).view(-1,1).to(device)\n",
        "      #   optimización\n",
        "      d_optimizer.zero_grad()\n",
        "      d_output = d(d_input)\n",
        "      d_l = crit(d_output, d_gt)\n",
        "      d_l.backward()\n",
        "      d_optimizer.step()\n",
        "      d_loss.append(d_l.item())\n",
        "      # entrenamos el generador\n",
        "      g.train()\n",
        "      d.eval()\n",
        "      #   generamos un batch de imágenes falsas\n",
        "      noise = torch.randn((X.size(0), g.input_size)).to(device)\n",
        "      genenerated_images = g(noise)\n",
        "      #   salidas del discriminador\n",
        "      d_output = d(genenerated_images)\n",
        "      #   gorund truth para el generator\n",
        "      g_gt = torch.ones(X.size(0)).view(-1,1).to(device)\n",
        "      #   optimización\n",
        "      g_optimizer.zero_grad()\n",
        "      g_l = crit(d_output, g_gt)\n",
        "      g_l.backward()\n",
        "      g_optimizer.step()\n",
        "      g_loss.append(g_l.item())\n",
        "      # logs\n",
        "      mb.child.comment = f'g_loss {np.mean(g_loss):.5f} d_loss {np.mean(d_loss):.5f}'\n",
        "    mb.write(f'Epoch {epoch}/{epochs} g_loss {np.mean(g_loss):.5f} d_loss {np.mean(d_loss):.5f}')\n",
        "    hist['g_loss'].append(np.mean(g_loss))    \n",
        "    hist['d_loss'].append(np.mean(d_loss))\n",
        "  return hist"
      ],
      "execution_count": 23,
      "outputs": []
    },
    {
      "cell_type": "code",
      "metadata": {
        "ExecuteTime": {
          "end_time": "2020-10-08T12:31:43.792634Z",
          "start_time": "2020-10-08T12:21:25.601032Z"
        },
        "colab": {
          "base_uri": "https://localhost:8080/",
          "height": 772
        },
        "id": "tLbSqzbqRvQn",
        "outputId": "18cc5073-d1da-453c-c9f7-4358b107ab1d"
      },
      "source": [
        "hist = fit(generator, discriminator,train_dl )"
      ],
      "execution_count": 205,
      "outputs": [
        {
          "output_type": "display_data",
          "data": {
            "text/plain": [
              "<IPython.core.display.HTML object>"
            ],
            "text/html": [
              "\n",
              "<style>\n",
              "    /* Turns off some styling */\n",
              "    progress {\n",
              "        /* gets rid of default border in Firefox and Opera. */\n",
              "        border: none;\n",
              "        /* Needs to be in here for Safari polyfill so background images work as expected. */\n",
              "        background-size: auto;\n",
              "    }\n",
              "    progress:not([value]), progress:not([value])::-webkit-progress-bar {\n",
              "        background: repeating-linear-gradient(45deg, #7e7e7e, #7e7e7e 10px, #5c5c5c 10px, #5c5c5c 20px);\n",
              "    }\n",
              "    .progress-bar-interrupted, .progress-bar-interrupted::-webkit-progress-bar {\n",
              "        background: #F44336;\n",
              "    }\n",
              "</style>\n"
            ]
          },
          "metadata": {}
        },
        {
          "output_type": "display_data",
          "data": {
            "text/plain": [
              "<IPython.core.display.HTML object>"
            ],
            "text/html": [
              "Epoch 1/30 g_loss 0.83586 d_loss 0.37825<p>Epoch 2/30 g_loss 0.94852 d_loss 0.31383<p>Epoch 3/30 g_loss 1.09914 d_loss 0.26747<p>Epoch 4/30 g_loss 1.24185 d_loss 0.23521<p>Epoch 5/30 g_loss 1.36612 d_loss 0.21324<p>Epoch 6/30 g_loss 1.64664 d_loss 0.18607<p>Epoch 7/30 g_loss 1.79570 d_loss 0.16789<p>Epoch 8/30 g_loss 1.99350 d_loss 0.15236<p>Epoch 9/30 g_loss 2.16819 d_loss 0.13908<p>Epoch 10/30 g_loss 2.31803 d_loss 0.12796<p>Epoch 11/30 g_loss 2.54707 d_loss 0.11770<p>Epoch 12/30 g_loss 2.69192 d_loss 0.10911<p>Epoch 13/30 g_loss 2.83944 d_loss 0.10170<p>Epoch 14/30 g_loss 2.99207 d_loss 0.09509<p>Epoch 15/30 g_loss 3.13009 d_loss 0.08938<p>Epoch 16/30 g_loss 3.29589 d_loss 0.08417<p>Epoch 17/30 g_loss 3.46835 d_loss 0.07961<p>Epoch 18/30 g_loss 3.63879 d_loss 0.07536<p>Epoch 19/30 g_loss 3.76219 d_loss 0.07170<p>Epoch 20/30 g_loss 3.90932 d_loss 0.06833<p>Epoch 21/30 g_loss 4.07530 d_loss 0.06522<p>Epoch 22/30 g_loss 4.30283 d_loss 0.06239<p>Epoch 23/30 g_loss 4.47746 d_loss 0.05976<p>Epoch 24/30 g_loss 4.60804 d_loss 0.05735<p>Epoch 25/30 g_loss 4.72991 d_loss 0.05513<p>Epoch 26/30 g_loss 4.86864 d_loss 0.05312<p>Epoch 27/30 g_loss 4.98908 d_loss 0.05130<p>Epoch 28/30 g_loss 5.07563 d_loss 0.04958<p>Epoch 29/30 g_loss 5.14836 d_loss 0.04794<p>Epoch 30/30 g_loss 5.23357 d_loss 0.04643"
            ]
          },
          "metadata": {}
        },
        {
          "output_type": "stream",
          "name": "stderr",
          "text": [
            "/usr/local/lib/python3.8/dist-packages/torch/utils/data/dataloader.py:554: UserWarning: This DataLoader will create 3 worker processes in total. Our suggested max number of worker in current system is 2, which is smaller than what this DataLoader is going to create. Please be aware that excessive worker creation might get DataLoader running slow or even freeze, lower the worker number to avoid potential slowness/freeze if necessary.\n",
            "  warnings.warn(_create_warning_msg(\n"
          ]
        }
      ]
    },
    {
      "cell_type": "code",
      "metadata": {
        "ExecuteTime": {
          "end_time": "2020-10-08T12:32:02.391940Z",
          "start_time": "2020-10-08T12:32:02.194532Z"
        },
        "colab": {
          "base_uri": "https://localhost:8080/",
          "height": 265
        },
        "id": "5Pz4zXKFRvQq",
        "outputId": "9e2afa53-472d-493e-b0a5-59aaaaafb2d9"
      },
      "source": [
        "import pandas as pd \n",
        "\n",
        "df = pd.DataFrame(hist)\n",
        "df.plot(grid=True)\n",
        "plt.show()"
      ],
      "execution_count": 206,
      "outputs": [
        {
          "output_type": "display_data",
          "data": {
            "text/plain": [
              "<Figure size 432x288 with 1 Axes>"
            ],
            "image/png": "[encoded data removed]"
          },
          "metadata": {
            "needs_background": "light"
          }
        }
      ]
    },
    {
      "cell_type": "markdown",
      "metadata": {
        "id": "aUEvlgv0RvQt"
      },
      "source": [
        "Como podemos ver, la *loss* del generador ha ido disminuyendo (lo cual sabemos que es señal de que el entrenamiento ha ido bien y la red ha aprendido a generar buenas imágenes). Sin embargo, la *loss* del discriminador ha ido aumentando. ¿Significa esto que nuestro discriminador es malo, y que tenemos que intentar algo para que este valor también disminuya?. Para resolver esta duda tenemos que pensar en cómo estamos entrenando ambas redes. Durante el entrenamiento, ambas redes intentan engañarse mutuamente y van mejorando a la vez en su tarea. Esto implica que en el límite en el que queremos un generador perfecto, el discriminador no será capaz de distinguir imágenes reales de falsas. ¿Cuánto vale la *loss* del discriminador en este caso? La respuesta es 0.5 (cada vez que el discriminador recibe una imagen le asigna la etiqueta real o falso con un 50% de probabilidad ya que no es capaz de distinguirlas). Así pues, en el contexto de las *GANs*, que la *loss* del discriminador aumente es realmente una buena señal de que todo está funcionando como esperamos. \n",
        "\n",
        "Una vez entrenado el generador, podemos usarlo para generar nuevas imágenes."
      ]
    },
    {
      "cell_type": "code",
      "metadata": {
        "ExecuteTime": {
          "end_time": "2020-10-08T12:32:28.097863Z",
          "start_time": "2020-10-08T12:32:27.012065Z"
        },
        "colab": {
          "base_uri": "https://localhost:8080/",
          "height": 495
        },
        "id": "IUABTSLSRvQt",
        "outputId": "1dfb8351-016a-406d-df8a-2f4335a4d86c"
      },
      "source": [
        "generator.eval()\n",
        "with torch.no_grad():\n",
        "  noise = torch.randn((10, generator.input_size)).to(device)\n",
        "  generated_images = generator(noise)\n",
        "  fig, axs = plt.subplots(2,5,figsize=(15,5))\n",
        "  i = 0\n",
        "  for ax in axs:\n",
        "    for _ax in ax:\n",
        "      img = generated_images[i].reshape(28,28,3).cpu()\n",
        "      _ax.imshow(img)\n",
        "      i+=1\n",
        "  plt.show()"
      ],
      "execution_count": 213,
      "outputs": [
        {
          "output_type": "stream",
          "name": "stderr",
          "text": [
            "WARNING:matplotlib.image:Clipping input data to the valid range for imshow with RGB data ([0..1] for floats or [0..255] for integers).\n",
            "WARNING:matplotlib.image:Clipping input data to the valid range for imshow with RGB data ([0..1] for floats or [0..255] for integers).\n",
            "WARNING:matplotlib.image:Clipping input data to the valid range for imshow with RGB data ([0..1] for floats or [0..255] for integers).\n",
            "WARNING:matplotlib.image:Clipping input data to the valid range for imshow with RGB data ([0..1] for floats or [0..255] for integers).\n",
            "WARNING:matplotlib.image:Clipping input data to the valid range for imshow with RGB data ([0..1] for floats or [0..255] for integers).\n",
            "WARNING:matplotlib.image:Clipping input data to the valid range for imshow with RGB data ([0..1] for floats or [0..255] for integers).\n",
            "WARNING:matplotlib.image:Clipping input data to the valid range for imshow with RGB data ([0..1] for floats or [0..255] for integers).\n",
            "WARNING:matplotlib.image:Clipping input data to the valid range for imshow with RGB data ([0..1] for floats or [0..255] for integers).\n",
            "WARNING:matplotlib.image:Clipping input data to the valid range for imshow with RGB data ([0..1] for floats or [0..255] for integers).\n",
            "WARNING:matplotlib.image:Clipping input data to the valid range for imshow with RGB data ([0..1] for floats or [0..255] for integers).\n"
          ]
        },
        {
          "output_type": "display_data",
          "data": {
            "text/plain": [
              "<Figure size 1080x360 with 10 Axes>"
            ],
            "image/png": "[encoded data removed]"
          },
          "metadata": {
            "needs_background": "light"
          }
        }
      ]
    },
    {
      "cell_type": "markdown",
      "metadata": {
        "id": "crvyO8leRvQx"
      },
      "source": [
        "Si bien hemos podido implementar el bucle de entrenamiento de una *GAN* nuestro modelo sencillo no es capaz de producir buenas imágenes. Para ello necesitamos un tipo de red neuronal especialmente diseñada para trabajar con imágenes, y que ya conocemos de posts anteriores: redes convolucionales."
      ]
    },
    {
      "cell_type": "markdown",
      "metadata": {
        "id": "a9W1AfEIRvQy"
      },
      "source": [
        "## DCGANs\n",
        "\n",
        "Podemos usar *DCGANs* (*deep convolutional GANs*) para obtener mejores generadores utilizando redes convolucionales. En este caso, necesitaremos arquitecturas diferentes para generador y discriminador.\n",
        "\n",
        "![](https://gluon.mxnet.io/_images/dcgan.png)\n",
        "\n",
        "El generador recibirá un vector de 100 valores aleatorios y después aplicaremos varias capas de convoluciones transpuestas (que aumentarán el tamaño de los mapas de caracterísitcas, como hicimos en nuestras redes para [segmentación](https://sensioai.com/blog/50_cv_segmentacion)) hasta obtener la imagen generada."
      ]
    },
    {
      "cell_type": "code",
      "source": [
        "image_size = 28\n",
        "batch_size = 128\n",
        "stats = (0.5),(0.5)"
      ],
      "metadata": {
        "id": "yqTXZQP4boig"
      },
      "execution_count": 10,
      "outputs": []
    },
    {
      "cell_type": "code",
      "source": [
        "train_ds = ImageFolder(DATA_DIR, transform=T.Compose([\n",
        "    T.Resize(image_size),\n",
        "    T.CenterCrop(image_size),\n",
        "    T.Grayscale(),\n",
        "    T.ToTensor(),\n",
        "\n",
        "    T.Normalize(*stats)]))\n",
        "\n",
        "train_dl = DataLoader(train_ds, batch_size, shuffle=True, num_workers=3, pin_memory=True)"
      ],
      "metadata": {
        "id": "RsgZJ1GYXw2K",
        "outputId": "f54e720e-8abe-4d44-df45-da44cd0c1f31",
        "colab": {
          "base_uri": "https://localhost:8080/"
        }
      },
      "execution_count": 11,
      "outputs": [
        {
          "output_type": "stream",
          "name": "stderr",
          "text": [
            "/usr/local/lib/python3.8/dist-packages/torch/utils/data/dataloader.py:554: UserWarning: This DataLoader will create 3 worker processes in total. Our suggested max number of worker in current system is 2, which is smaller than what this DataLoader is going to create. Please be aware that excessive worker creation might get DataLoader running slow or even freeze, lower the worker number to avoid potential slowness/freeze if necessary.\n",
            "  warnings.warn(_create_warning_msg(\n"
          ]
        }
      ]
    },
    {
      "cell_type": "code",
      "source": [
        "def get_default_device():\n",
        "    \"\"\"Pick GPU if available, else CPU\"\"\"\n",
        "    if torch.cuda.is_available():\n",
        "        return torch.device('cuda')\n",
        "    else:\n",
        "        return torch.device('cpu')\n",
        "    \n",
        "def to_device(data, device):\n",
        "    \"\"\"Move tensor(s) to chosen device\"\"\"\n",
        "    if isinstance(data, (list,tuple)):\n",
        "        return [to_device(x, device) for x in data]\n",
        "    return data.to(device, non_blocking=True)\n",
        "\n",
        "class DeviceDataLoader():\n",
        "    \"\"\"Wrap a dataloader to move data to a device\"\"\"\n",
        "    def __init__(self, dl, device):\n",
        "        self.dl = dl\n",
        "        self.device = device\n",
        "        \n",
        "    def __iter__(self):\n",
        "        \"\"\"Yield a batch of data after moving it to device\"\"\"\n",
        "        for b in self.dl: \n",
        "            yield to_device(b, self.device)\n",
        "\n",
        "    def __len__(self):\n",
        "        \"\"\"Number of batches\"\"\"\n",
        "        return len(self.dl)"
      ],
      "metadata": {
        "id": "RhV0NKyUX8Yp"
      },
      "execution_count": 12,
      "outputs": []
    },
    {
      "cell_type": "code",
      "source": [
        "train_dl = DeviceDataLoader(train_dl, device)"
      ],
      "metadata": {
        "id": "j65VRNSRYJyo"
      },
      "execution_count": 13,
      "outputs": []
    },
    {
      "cell_type": "code",
      "metadata": {
        "ExecuteTime": {
          "end_time": "2020-10-08T12:53:27.729883Z",
          "start_time": "2020-10-08T12:53:27.720329Z"
        },
        "id": "z__XIyQHRvQy"
      },
      "source": [
        "class Generator(nn.Module):\n",
        "  def __init__(self):\n",
        "    super().__init__()\n",
        "    self.input_size = 100\n",
        "    self.inp = nn.Sequential(\n",
        "        nn.Linear(self.input_size, 7*7*128),\n",
        "        nn.BatchNorm1d(7*7*128),\n",
        "    )\n",
        "    self.main = nn.Sequential(\n",
        "        nn.ConvTranspose2d(128, 64, 4, stride=2, padding=1, bias=False),\n",
        "        nn.BatchNorm2d(64),\n",
        "        nn.ReLU(True),\n",
        "        nn.ConvTranspose2d(64, 1, 4, stride=2, padding=1, bias=False),\n",
        "        nn.Tanh()\n",
        "    )\n",
        "\n",
        "  def forward(self, x):\n",
        "    x = self.inp(x)\n",
        "    x = x.view(-1, 128, 7, 7)\n",
        "    x = self.main(x)\n",
        "    x = x.view(x.size(0), 28*28)\n",
        "    return x"
      ],
      "execution_count": 14,
      "outputs": []
    },
    {
      "cell_type": "code",
      "metadata": {
        "ExecuteTime": {
          "end_time": "2020-10-08T12:53:28.217371Z",
          "start_time": "2020-10-08T12:53:28.112187Z"
        },
        "colab": {
          "base_uri": "https://localhost:8080/"
        },
        "id": "p39Ezo1NRvQ1",
        "outputId": "f0b2e9af-87cf-4a09-8629-218dd20fbf0b"
      },
      "source": [
        "generator = Generator()\n",
        "output = generator(torch.randn(64, 100))\n",
        "output.shape"
      ],
      "execution_count": 15,
      "outputs": [
        {
          "output_type": "execute_result",
          "data": {
            "text/plain": [
              "torch.Size([64, 784])"
            ]
          },
          "metadata": {},
          "execution_count": 15
        }
      ]
    },
    {
      "cell_type": "markdown",
      "metadata": {
        "id": "HEtvDyiURvQ3"
      },
      "source": [
        "Al final del generador usamos una activación `tanh`, que dará valores entre -1 y 1. Por este motivo tenemos que re-normalizar nuestras imágenes en el dataset."
      ]
    },
    {
      "cell_type": "code",
      "metadata": {
        "ExecuteTime": {
          "end_time": "2020-10-08T12:53:40.747626Z",
          "start_time": "2020-10-08T12:53:40.725944Z"
        },
        "colab": {
          "base_uri": "https://localhost:8080/"
        },
        "id": "IKcWAEKmRvQ6",
        "outputId": "eb4d58e0-7eb5-435c-e5b3-538d6c594d08"
      },
      "source": [
        "img, label = train_ds[0]\n",
        "img.shape, img.dtype, img.max(), img.min()"
      ],
      "execution_count": 17,
      "outputs": [
        {
          "output_type": "execute_result",
          "data": {
            "text/plain": [
              "(torch.Size([1, 28, 28]), torch.float32, tensor(0.1451), tensor(-0.6784))"
            ]
          },
          "metadata": {},
          "execution_count": 17
        }
      ]
    },
    {
      "cell_type": "code",
      "metadata": {
        "ExecuteTime": {
          "end_time": "2020-10-08T12:53:40.818655Z",
          "start_time": "2020-10-08T12:53:40.794573Z"
        },
        "colab": {
          "base_uri": "https://localhost:8080/"
        },
        "id": "0926xTdFRvQ8",
        "outputId": "665acdb5-d4c2-4994-bbfc-ec49e4ba0173"
      },
      "source": [
        "imgs, labels = next(iter(train_dl))\n",
        "imgs.shape, labels.shape"
      ],
      "execution_count": 18,
      "outputs": [
        {
          "output_type": "stream",
          "name": "stderr",
          "text": [
            "/usr/local/lib/python3.8/dist-packages/torch/utils/data/dataloader.py:554: UserWarning: This DataLoader will create 3 worker processes in total. Our suggested max number of worker in current system is 2, which is smaller than what this DataLoader is going to create. Please be aware that excessive worker creation might get DataLoader running slow or even freeze, lower the worker number to avoid potential slowness/freeze if necessary.\n",
            "  warnings.warn(_create_warning_msg(\n"
          ]
        },
        {
          "output_type": "execute_result",
          "data": {
            "text/plain": [
              "(torch.Size([128, 1, 28, 28]), torch.Size([128]))"
            ]
          },
          "metadata": {},
          "execution_count": 18
        }
      ]
    },
    {
      "cell_type": "markdown",
      "metadata": {
        "id": "7jS594hJRvRA"
      },
      "source": [
        "En cuanto al discriminador, utilizaremos una `CNN` típica como las que conocemos cuando hacemos clasificación de imagen."
      ]
    },
    {
      "cell_type": "code",
      "metadata": {
        "ExecuteTime": {
          "end_time": "2020-10-08T12:53:40.848435Z",
          "start_time": "2020-10-08T12:53:40.830400Z"
        },
        "id": "N3BsrEAARvRB"
      },
      "source": [
        "class Discriminator(nn.Module):\n",
        "  def __init__(self):\n",
        "    super().__init__()\n",
        "    self.main = nn.Sequential(\n",
        "        nn.Conv2d(1, 64, 4, stride=2, padding=1, bias=False),\n",
        "        nn.BatchNorm2d(64),\n",
        "        nn.ReLU(True),\n",
        "        nn.Conv2d(64, 128, 4, stride=2, padding=1, bias=False),\n",
        "        nn.BatchNorm2d(128),\n",
        "        nn.ReLU(True)\n",
        "    )\n",
        "    self.out = nn.Sequential(\n",
        "        nn.Linear(128*7*7, 1),\n",
        "        nn.Sigmoid()\n",
        "    )\n",
        "\n",
        "  def forward(self, x):\n",
        "    # esperamos vectores a la entrada de 28*28\n",
        "    x = x.view(x.size(0), 1, 28, 28)\n",
        "    x = self.main(x)\n",
        "    x = x.view(x.size(0), -1)\n",
        "    x = self.out(x)\n",
        "    return x"
      ],
      "execution_count": 19,
      "outputs": []
    },
    {
      "cell_type": "code",
      "metadata": {
        "ExecuteTime": {
          "end_time": "2020-10-08T12:53:40.947755Z",
          "start_time": "2020-10-08T12:53:40.869203Z"
        },
        "colab": {
          "base_uri": "https://localhost:8080/"
        },
        "id": "0pegKxb5RvRD",
        "outputId": "03f2ddc4-bf7b-47c8-8b41-a17c8868bcde"
      },
      "source": [
        "discriminator = Discriminator()\n",
        "output = discriminator(torch.randn(64, 28*28))\n",
        "output.shape"
      ],
      "execution_count": 20,
      "outputs": [
        {
          "output_type": "execute_result",
          "data": {
            "text/plain": [
              "torch.Size([64, 1])"
            ]
          },
          "metadata": {},
          "execution_count": 20
        }
      ]
    },
    {
      "cell_type": "markdown",
      "metadata": {
        "id": "rqXmPfu1RvRG"
      },
      "source": [
        "Ahora podemos utilizar exactamente el mismo bucle de entrenamiento anterior para obtener un nuevo generador."
      ]
    },
    {
      "cell_type": "code",
      "metadata": {
        "ExecuteTime": {
          "end_time": "2020-10-08T12:54:04.609588Z",
          "start_time": "2020-10-08T12:53:40.960997Z"
        },
        "colab": {
          "base_uri": "https://localhost:8080/",
          "height": 718
        },
        "id": "-tOMYAqQRvRG",
        "outputId": "1dcb5eae-8473-4572-da49-88a03384fa49"
      },
      "source": [
        "hist = fit(generator, discriminator, train_dl, crit=torch.nn.BCELoss())"
      ],
      "execution_count": 24,
      "outputs": [
        {
          "output_type": "display_data",
          "data": {
            "text/plain": [
              "<IPython.core.display.HTML object>"
            ],
            "text/html": [
              "\n",
              "<style>\n",
              "    /* Turns off some styling */\n",
              "    progress {\n",
              "        /* gets rid of default border in Firefox and Opera. */\n",
              "        border: none;\n",
              "        /* Needs to be in here for Safari polyfill so background images work as expected. */\n",
              "        background-size: auto;\n",
              "    }\n",
              "    progress:not([value]), progress:not([value])::-webkit-progress-bar {\n",
              "        background: repeating-linear-gradient(45deg, #7e7e7e, #7e7e7e 10px, #5c5c5c 10px, #5c5c5c 20px);\n",
              "    }\n",
              "    .progress-bar-interrupted, .progress-bar-interrupted::-webkit-progress-bar {\n",
              "        background: #F44336;\n",
              "    }\n",
              "</style>\n"
            ]
          },
          "metadata": {}
        },
        {
          "output_type": "display_data",
          "data": {
            "text/plain": [
              "<IPython.core.display.HTML object>"
            ],
            "text/html": [
              "Epoch 1/30 g_loss 2.59167 d_loss 0.06190<p>Epoch 2/30 g_loss 5.48910 d_loss 0.03395<p>Epoch 3/30 g_loss 5.98029 d_loss 0.02695<p>Epoch 4/30 g_loss 5.81438 d_loss 0.02396<p>Epoch 5/30 g_loss 5.45340 d_loss 0.02507<p>Epoch 6/30 g_loss 4.97047 d_loss 0.02635<p>Epoch 7/30 g_loss 4.83868 d_loss 0.02952<p>Epoch 8/30 g_loss 4.82519 d_loss 0.03206<p>Epoch 9/30 g_loss 4.91091 d_loss 0.03294<p>Epoch 10/30 g_loss 4.97242 d_loss 0.03582<p>Epoch 11/30 g_loss 4.97226 d_loss 0.03914<p>Epoch 12/30 g_loss 5.03317 d_loss 0.04180<p>Epoch 13/30 g_loss 5.07038 d_loss 0.04466<p>Epoch 14/30 g_loss 5.10822 d_loss 0.04842<p>Epoch 15/30 g_loss 5.03785 d_loss 0.05151<p>Epoch 16/30 g_loss 4.97820 d_loss 0.05426<p>Epoch 17/30 g_loss 4.94303 d_loss 0.05602<p>Epoch 18/30 g_loss 4.95736 d_loss 0.05874<p>Epoch 19/30 g_loss 4.93403 d_loss 0.06121<p>Epoch 20/30 g_loss 4.87413 d_loss 0.06394<p>Epoch 21/30 g_loss 4.81379 d_loss 0.06521<p>Epoch 22/30 g_loss 4.76387 d_loss 0.06627<p>Epoch 23/30 g_loss 4.76161 d_loss 0.06815<p>Epoch 24/30 g_loss 4.77362 d_loss 0.07014<p>Epoch 25/30 g_loss 4.69547 d_loss 0.07243<p>Epoch 26/30 g_loss 4.63951 d_loss 0.07367<p>Epoch 27/30 g_loss 4.64005 d_loss 0.07442<p>Epoch 28/30 g_loss 4.62860 d_loss 0.07480<p>Epoch 29/30 g_loss 4.57819 d_loss 0.07588<p>Epoch 30/30 g_loss 4.53121 d_loss 0.07698"
            ]
          },
          "metadata": {}
        }
      ]
    },
    {
      "cell_type": "code",
      "metadata": {
        "colab": {
          "base_uri": "https://localhost:8080/",
          "height": 265
        },
        "id": "XIFnctljRvRJ",
        "outputId": "85820c2e-f9f2-4d4b-ae9e-f76bc7f778f3"
      },
      "source": [
        "import pandas as pd \n",
        "df = pd.DataFrame(hist)\n",
        "df.plot(grid=True)\n",
        "plt.show()"
      ],
      "execution_count": 26,
      "outputs": [
        {
          "output_type": "display_data",
          "data": {
            "text/plain": [
              "<Figure size 432x288 with 1 Axes>"
            ],
            "image/png": "[encoded data removed]"
          },
          "metadata": {
            "needs_background": "light"
          }
        }
      ]
    },
    {
      "cell_type": "code",
      "metadata": {
        "colab": {
          "base_uri": "https://localhost:8080/",
          "height": 321
        },
        "id": "F273gfyMRvRL",
        "outputId": "6f25e59c-2077-4ab2-89f3-a4a6e60f3654"
      },
      "source": [
        "generator.eval()\n",
        "with torch.no_grad():\n",
        "  noise = torch.randn((10, generator.input_size)).to(device)\n",
        "  generated_images = generator(noise)\n",
        "  fig, axs = plt.subplots(2,5,figsize=(15,5))\n",
        "  i = 0\n",
        "  for ax in axs:\n",
        "    for _ax in ax:\n",
        "      img = generated_images[i].view(28,28).cpu()\n",
        "      _ax.imshow(img)\n",
        "      i+=1\n",
        "  plt.show()"
      ],
      "execution_count": 29,
      "outputs": [
        {
          "output_type": "display_data",
          "data": {
            "text/plain": [
              "<Figure size 1080x360 with 10 Axes>"
            ],
            "image/png": "[encoded data removed]"
          },
          "metadata": {
            "needs_background": "light"
          }
        }
      ]
    },
    {
      "cell_type": "markdown",
      "metadata": {
        "id": "1YJF45MWVBgd"
      },
      "source": [
        "En este caso las imágenes generadas son un poco mejores que las que obteníamos con la *GAN* simple, aunque todavía hay márgen de mejora."
      ]
    },
    {
      "cell_type": "markdown",
      "metadata": {
        "id": "85b4cZ58H0qR"
      },
      "source": [
        "> ⚡¿Te ves capaz de utilizar este código como base para entrenar una *GAN* capaz de generar caras realistas? Para ello puedes utilizar el dataset [CelebA](https://pytorch.org/docs/stable/torchvision/datasets.html#celeba)"
      ]
    },
    {
      "cell_type": "markdown",
      "metadata": {
        "id": "QvdsIzrAH0qR"
      },
      "source": [
        "## Resumen\n",
        "\n",
        "En este post hemos aprendido a implementar *GANs*, redes neuronales capaces de generar datos similares a los usados en el entrenamiento, en este caso imágenes. Este tipo de arquitecturas están formadas por dos redes neuronales que compiten entre sí durante el entrenamiento: el generador y el discriminador. El generador se encarga de generar imágenes falsas a partir de un vector de valores aleatorios, que se puede interpretar como una versión comprimida de la imagen, mientras que el discriminador se encarga de distinguir entre imágenes reales, obtenidas del dataset, y falsas, generadas por el generador. Una vez entrenado el modelo, descartamos el discriminador y nos quedamos con el generador que será capaz de generar imágenes realistas, similares a la usadas en el dataset. Este tipo de modelos se utilizan para generar caras de gente que no existe, colorear imágenes en blanco y negro, generar imágenes realistas a partir de máscaras de segmentación, incluso los famosos *deep fakes*."
      ]
    }
  ]
}